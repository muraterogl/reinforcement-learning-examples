{
  "nbformat": 4,
  "nbformat_minor": 0,
  "metadata": {
    "colab": {
      "provenance": [],
      "authorship_tag": "ABX9TyMDC4bODBxJpu0CjJYIfSIW"
    },
    "kernelspec": {
      "name": "python3",
      "display_name": "Python 3"
    },
    "language_info": {
      "name": "python"
    }
  },
  "cells": [
    {
      "cell_type": "code",
      "execution_count": null,
      "metadata": {
        "id": "TiErnjsiQEwO"
      },
      "outputs": [],
      "source": [
        "# https://ymd_h.gitlab.io/ymd_blog/posts/gym_on_google_colab_with_gnwrapper/\n",
        "!apt update > /dev/null 2>&1\n",
        "!apt install xvfb python-opengl ffmpeg > /dev/null 2>&1\n",
        "!pip install gym==0.23.1 gym_super_mario_bros==7.3.0 nes_py==8.2.1 gym-notebook-wrapper==1.3.3 > /dev/null 2>&1"
      ]
    },
    {
      "cell_type": "code",
      "source": [
        "import gym_super_mario_bros\n",
        "from nes_py.wrappers import JoypadSpace\n",
        "from gym_super_mario_bros.actions import SIMPLE_MOVEMENT\n",
        "import gnwrapper"
      ],
      "metadata": {
        "id": "P46dBfbj5ah_"
      },
      "execution_count": null,
      "outputs": []
    },
    {
      "cell_type": "code",
      "source": [
        "env = gym_super_mario_bros.make('SuperMarioBros-v0')\n",
        "env = JoypadSpace(env, SIMPLE_MOVEMENT)\n",
        "env = gnwrapper.Monitor(env, directory=\"./\")"
      ],
      "metadata": {
        "id": "v6DZqUOt7IsY"
      },
      "execution_count": null,
      "outputs": []
    },
    {
      "cell_type": "code",
      "source": [
        "done = True\n",
        "for step in range(1000):\n",
        "    if done:\n",
        "        env.reset()\n",
        "    state, reward, done, info = env.step(env.action_space.sample())\n",
        "env.display()\n",
        "env.close()"
      ],
      "metadata": {
        "id": "Y2Cn6nYd7RRt"
      },
      "execution_count": null,
      "outputs": []
    }
  ]
}