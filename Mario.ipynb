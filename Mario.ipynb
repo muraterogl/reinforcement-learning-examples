{
  "nbformat": 4,
  "nbformat_minor": 0,
  "metadata": {
    "colab": {
      "provenance": [],
      "gpuType": "T4",
      "authorship_tag": "ABX9TyOYt8RjZCLGl6tJ7QKYNofE"
    },
    "kernelspec": {
      "name": "python3",
      "display_name": "Python 3"
    },
    "language_info": {
      "name": "python"
    },
    "accelerator": "GPU"
  },
  "cells": [
    {
      "cell_type": "code",
      "execution_count": null,
      "metadata": {
        "id": "TiErnjsiQEwO"
      },
      "outputs": [],
      "source": [
        "# https://ymd_h.gitlab.io/ymd_blog/posts/gym_on_google_colab_with_gnwrapper/\n",
        "# https://www.youtube.com/watch?v=dWmJ5CXSKdw\n",
        "!apt update > /dev/null 2>&1\n",
        "!apt install xvfb python-opengl ffmpeg > /dev/null 2>&1\n",
        "!pip install --upgrade pip wheel==0.38.4 setuptools==65.5.1\n",
        "!pip install gym==0.25.1 gym_super_mario_bros==7.3.0 nes_py==8.2.1 gym-notebook-wrapper==1.3.3 > /dev/null 2>&1\n",
        "!pip install torch torchvision torchaudio --index-url https://download.pytorch.org/whl/cu118 > /dev/null 2>&1\n",
        "# Install stable baselines for RL stuff\n",
        "!pip install stable-baselines3[extra]==1.8.0 > /dev/null 2>&1"
      ]
    },
    {
      "cell_type": "code",
      "source": [
        "import gym_super_mario_bros\n",
        "from nes_py.wrappers import JoypadSpace\n",
        "from gym_super_mario_bros.actions import SIMPLE_MOVEMENT\n",
        "import gnwrapper"
      ],
      "metadata": {
        "id": "P46dBfbj5ah_"
      },
      "execution_count": null,
      "outputs": []
    },
    {
      "cell_type": "code",
      "source": [
        "env = gym_super_mario_bros.make('SuperMarioBros-v0')\n",
        "env = JoypadSpace(env, SIMPLE_MOVEMENT)\n",
        "env = gnwrapper.Monitor(env, directory=\"./\")"
      ],
      "metadata": {
        "id": "v6DZqUOt7IsY"
      },
      "execution_count": null,
      "outputs": []
    },
    {
      "cell_type": "code",
      "source": [
        "done = True\n",
        "for step in range(1000):\n",
        "    if done:\n",
        "        env.reset()\n",
        "    state, reward, done, info = env.step(env.action_space.sample())\n",
        "env.display()\n",
        "env.close()"
      ],
      "metadata": {
        "id": "Y2Cn6nYd7RRt"
      },
      "execution_count": null,
      "outputs": []
    },
    {
      "cell_type": "markdown",
      "source": [
        "# Preprocess the environment"
      ],
      "metadata": {
        "id": "uxNgX2boFvGk"
      }
    },
    {
      "cell_type": "code",
      "source": [
        "# Import Frane Stacker Wrapper and GrayScaling Wrapper\n",
        "from gym.wrappers import GrayScaleObservation\n",
        "# Import Vectorization Wrappers\n",
        "from stable_baselines3.common.vec_env import VecFrameStack, DummyVecEnv\n",
        "# Import Matplotlib to show the impact of frame stacking\n",
        "import matplotlib.pyplot as plt"
      ],
      "metadata": {
        "id": "4Kb422sJFyPr"
      },
      "execution_count": null,
      "outputs": []
    },
    {
      "cell_type": "code",
      "source": [
        "# 1. Create the base environment\n",
        "env = gym_super_mario_bros.make('SuperMarioBros-v0')\n",
        "# 2. Simplify the controls\n",
        "env = JoypadSpace(env, SIMPLE_MOVEMENT)\n",
        "# 3. Grayscale\n",
        "env = GrayScaleObservation(env, keep_dim=True)\n",
        "# 4. Wrap inside the Dummy Environment\n",
        "env = DummyVecEnv([lambda: env])\n",
        "# 5. Stack the frames\n",
        "env = VecFrameStack(env, 4, channels_order='last')\n",
        "state = env.reset()\n",
        "print(state.shape)\n",
        "plt.imshow(state[0])\n",
        "# _. Wrap it for the colab monitor\n",
        "#env = gnwrapper.Monitor(env, directory=\"./\")"
      ],
      "metadata": {
        "id": "YZlkz_-SKNXR"
      },
      "execution_count": null,
      "outputs": []
    }
  ]
}